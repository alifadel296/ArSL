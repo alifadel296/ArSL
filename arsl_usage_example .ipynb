{
  "cells": [
    {
      "cell_type": "code",
      "execution_count": null,
      "metadata": {
        "colab": {
          "base_uri": "https://localhost:8080/"
        },
        "id": "EkqbPgRQN1kV",
        "outputId": "5905e3d9-a01c-4512-9c49-65352ae1ba4a"
      },
      "outputs": [],
      "source": [
        "from google.colab import drive\n",
        "drive.mount('/content/drive' , force_remount = True)"
      ]
    },
    {
      "cell_type": "code",
      "execution_count": null,
      "metadata": {
        "id": "ebwS3CgdX4uC"
      },
      "outputs": [],
      "source": [
        "! cp -r '/content/drive/MyDrive/arsl' '/content'"
      ]
    },
    {
      "cell_type": "code",
      "execution_count": null,
      "metadata": {
        "colab": {
          "base_uri": "https://localhost:8080/"
        },
        "collapsed": true,
        "id": "UsvTpYs_WNgm",
        "outputId": "6a54d815-dee8-4378-ab5b-32dbaf3b8e83"
      },
      "outputs": [],
      "source": [
        "! pip install py7zr"
      ]
    },
    {
      "cell_type": "code",
      "execution_count": null,
      "metadata": {
        "colab": {
          "base_uri": "https://localhost:8080/"
        },
        "id": "bYVZaXAkV-8P",
        "outputId": "d0b29686-4a95-4395-80bf-b0035144fab2"
      },
      "outputs": [],
      "source": [
        "! python -m arsl.extract_data \\\n",
        "    -fp /content/drive/MyDrive/Arabic_Sign_Language/zip1.7z /content/drive/MyDrive/Arabic_Sign_Language/zip2.7z /content/drive/MyDrive/Arabic_Sign_Language/zip3.7z \\\n",
        "    -et /content/data"
      ]
    },
    {
      "cell_type": "code",
      "execution_count": null,
      "metadata": {
        "colab": {
          "base_uri": "https://localhost:8080/"
        },
        "id": "7IshxRGKYpao",
        "outputId": "3ba30bb1-c77c-464c-e5e5-78dae23d6333"
      },
      "outputs": [],
      "source": [
        "! python -m arsl.select_images -id data/01/test data/01/train -an '/content/Signer1.zip' # First signer\n",
        "! python -m arsl.select_images -id data/02/test data/02/train -an '/content/Signer2.zip' # Second signer\n",
        "! python -m arsl.select_images -id data/03/test data/03/train -an '/content/Signer3.zip' # Third signer"
      ]
    },
    {
      "cell_type": "code",
      "execution_count": null,
      "metadata": {
        "colab": {
          "base_uri": "https://localhost:8080/"
        },
        "id": "8xHPc7ZPeBBv",
        "outputId": "3600cdaf-69fe-4d68-f4ee-fa647bc0a8d1"
      },
      "outputs": [],
      "source": [
        "! python -m arsl.train \\\n",
        "  --epochs 2\\\n",
        "  --lr 0.001 \\\n",
        "  --batch_size 4 \\\n",
        "  --root_dir /content/data \\\n",
        "  --checkpoints_dir /content/checkpoint\\\n",
        "  --conv_size 3 16 16 16 32 32 32 64 64 64 128 128 128 256 256 256\\\n",
        "  --stride 1 2 1 1 2 1 1 2 1 1 2 1 1 2 1 1\\\n",
        "  --lstm_input 256\\\n",
        "  --hidden_size 256\\\n",
        "  --num_layers 3"
      ]
    },
    {
      "cell_type": "code",
      "execution_count": null,
      "metadata": {
        "id": "r3v8ZTBxzEgY"
      },
      "outputs": [],
      "source": []
    }
  ],
  "metadata": {
    "accelerator": "GPU",
    "colab": {
      "gpuType": "T4",
      "provenance": []
    },
    "kernelspec": {
      "display_name": "book",
      "language": "python",
      "name": "llmbook"
    },
    "language_info": {
      "name": "python",
      "version": "3.12.3"
    }
  },
  "nbformat": 4,
  "nbformat_minor": 0
}
